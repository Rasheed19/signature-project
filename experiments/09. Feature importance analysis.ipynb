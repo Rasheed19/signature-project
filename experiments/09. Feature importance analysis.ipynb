{
 "cells": [
  {
   "cell_type": "code",
   "execution_count": null,
   "metadata": {},
   "outputs": [],
   "source": [
    "from utils import utils_models, utils_gn, utils_dgrd, utils_sig\n",
    "import matplotlib.pyplot as plt\n",
    "from mpl_toolkits.axes_grid1.inset_locator import inset_axes\n",
    "import importlib\n",
    "import numpy as np\n",
    "import pandas as pd\n",
    "import seaborn as sns\n",
    "importlib.reload(utils_models)\n",
    "importlib.reload(utils_gn)\n",
    "importlib.reload(utils_dgrd)\n",
    "importlib.reload(utils_sig)"
   ]
  },
  {
   "cell_type": "code",
   "execution_count": null,
   "metadata": {},
   "outputs": [],
   "source": [
    "def feature_importance_analysis(model, model_type, feature_names, target_list):\n",
    "    \"\"\"\n",
    "    Function that calculates feature importance for fitted model.\n",
    "\n",
    "    Args:\n",
    "    ----\n",
    "         model:         model object\n",
    "         model_type:    model 'cycle' or 'capacity-ir'\n",
    "         feature_names: name of the features\n",
    "         target_list:   list of targets\n",
    "\n",
    "    Returns:\n",
    "    -------\n",
    "            data frame of feature importance.\n",
    "    \"\"\"\n",
    "\n",
    "    # Create a lambda function to scale importance values to the interval [0, 1]\n",
    "    scaler = lambda x: (x-x.min()) / (x.max()-x.min())\n",
    "\n",
    "    # Get the importance list\n",
    "    feature_importance = [scaler(model.regressor_.estimators_[i].feature_importances_) for i in range(len(target_list))]\n",
    "    # Cast feature importance list to a 2D numpy array\n",
    "    feature_importance = np.array(feature_importance)\n",
    "\n",
    "    return pd.DataFrame(data=feature_importance.T, columns=target_list, index=feature_names)"
   ]
  },
  {
   "cell_type": "code",
   "execution_count": null,
   "metadata": {},
   "outputs": [],
   "source": [
    "# Load train data to get feature names \n",
    "df = utils_sig.ccv_signature_features(data_dict=utils_gn.read_data('train_1238.pkl'), n=100, multi_cycle=False)"
   ]
  },
  {
   "cell_type": "code",
   "execution_count": null,
   "metadata": {},
   "outputs": [],
   "source": [
    "# For the model that predicts knees, elbows and EOL\n",
    "cycle_at_model = utils_gn.read_data('sig_cycles.pkl', folder='models')\n",
    "dframe = feature_importance_analysis(model=cycle_at_model, model_type='cycle', feature_names=df.columns, target_list=['k-o', 'k-p', 'e-o', 'e-p', 'EOL'])"
   ]
  },
  {
   "cell_type": "code",
   "execution_count": null,
   "metadata": {},
   "outputs": [],
   "source": [
    "fig = plt.figure(figsize=(18, 3))\n",
    "df1 = dframe.copy()\n",
    "df_index = np.array(df1.index)\n",
    "\n",
    "for i, item in enumerate(df1.columns):\n",
    "    \n",
    "\n",
    "    ax = fig.add_subplot(1, 5, i+1)\n",
    "    ax.text(0.7, 0.95, item, transform=ax.transAxes, fontsize=16, fontweight='bold', va='top')\n",
    "    \n",
    "    this_importance = df1[item].values\n",
    "    sort_index = np.argsort(this_importance)\n",
    "\n",
    "    this_importance = this_importance[sort_index]\n",
    "    this_index = df_index[sort_index]\n",
    "\n",
    "    ax.bar(this_index[::-1][:10], this_importance[::-1][:10], color='brown', ec='black', alpha=0.78)\n",
    "    ax.tick_params(axis='x', rotation=90, labelsize=14)\n",
    "    ax.tick_params(axis='y', labelsize=14)\n",
    "\n",
    "    if i != 0:\n",
    "        ax.set_yticklabels([])\n",
    "    \n",
    "    if i == 0:\n",
    "        ax.set_ylabel('Feature importance', fontsize=16)\n",
    "\n",
    "plt.savefig(fname=\"plots/sig-feature-importance-cycle-at-bar.pdf\", bbox_inches='tight')\n",
    "    "
   ]
  },
  {
   "cell_type": "code",
   "execution_count": null,
   "metadata": {},
   "outputs": [],
   "source": [
    "# For the model that predicts 'value_at'\n",
    "value_at_model = utils_gn.read_data('sig_capacity_ir.pkl', folder='models')\n",
    "dframe2 = feature_importance_analysis(model=value_at_model, model_type='capacity-ir', feature_names=df.columns, target_list=['Qatk-o', 'Qatk-p', 'IRate-o', 'IRate-p', 'IRatEOL'])"
   ]
  },
  {
   "cell_type": "code",
   "execution_count": null,
   "metadata": {},
   "outputs": [],
   "source": [
    "fig = plt.figure(figsize=(18, 3))\n",
    "df1 = dframe2.copy()\n",
    "df_index = np.array(df1.index)\n",
    "\n",
    "for i, item in enumerate(df1.columns):\n",
    "    \n",
    "\n",
    "    ax = fig.add_subplot(1, 5, i+1)\n",
    "    ax.text(0.6, 0.95, item, transform=ax.transAxes, fontsize=16, fontweight='bold', va='top')\n",
    "    \n",
    "    this_importance = df1[item].values\n",
    "    sort_index = np.argsort(this_importance)\n",
    "\n",
    "    this_importance = this_importance[sort_index]\n",
    "    this_index = df_index[sort_index]\n",
    "\n",
    "    ax.bar(this_index[::-1][:10], this_importance[::-1][:10], color='brown', ec='black', alpha=0.78)\n",
    "    ax.tick_params(axis='x', rotation=90, labelsize=14)\n",
    "    ax.tick_params(axis='y', labelsize=14)\n",
    "\n",
    "    if i != 0:\n",
    "        ax.set_yticklabels([])\n",
    "    \n",
    "    if i == 0:\n",
    "        ax.set_ylabel('Feature importance', size=16)\n",
    "\n",
    "plt.savefig(fname=\"plots/sig-feature-importance-value-at-bar.pdf\", bbox_inches='tight')\n",
    "   "
   ]
  },
  {
   "cell_type": "code",
   "execution_count": null,
   "metadata": {},
   "outputs": [],
   "source": []
  }
 ],
 "metadata": {
  "interpreter": {
   "hash": "31f2aee4e71d21fbe5cf8b01ff0e069b9275f58929596ceb00d14d90e3e16cd6"
  },
  "kernelspec": {
   "display_name": "Python 3.8.10 64-bit",
   "language": "python",
   "name": "python3"
  },
  "language_info": {
   "codemirror_mode": {
    "name": "ipython",
    "version": 3
   },
   "file_extension": ".py",
   "mimetype": "text/x-python",
   "name": "python",
   "nbconvert_exporter": "python",
   "pygments_lexer": "ipython3",
   "version": "3.10.6"
  },
  "orig_nbformat": 4
 },
 "nbformat": 4,
 "nbformat_minor": 2
}
