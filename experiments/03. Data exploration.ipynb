{
 "cells": [
  {
   "cell_type": "code",
   "execution_count": null,
   "metadata": {},
   "outputs": [],
   "source": [
    "from utils import utils_models, utils_gn, utils_dgrd, utils_sig\n",
    "from config.definitions import ROOT_DIR\n",
    "import matplotlib.pyplot as plt\n",
    "from mpl_toolkits.axes_grid1.inset_locator import inset_axes\n",
    "from scipy.interpolate import interp1d\n",
    "import importlib\n",
    "import numpy as np\n",
    "import pickle\n",
    "import os\n",
    "from scipy import stats\n",
    "import seaborn as sns\n",
    "importlib.reload(utils_models)\n",
    "importlib.reload(utils_gn)\n",
    "importlib.reload(utils_dgrd)\n",
    "importlib.reload(utils_sig)"
   ]
  },
  {
   "cell_type": "code",
   "execution_count": null,
   "metadata": {},
   "outputs": [],
   "source": [
    "# read training data\n",
    "train_raw_data = utils_gn.read_data('train_1238.pkl')\n",
    "train_raw_data.keys()"
   ]
  },
  {
   "cell_type": "code",
   "execution_count": null,
   "metadata": {},
   "outputs": [],
   "source": [
    "# Plot cc discharge voltage for selected cells in the train cells\n",
    "data_all = utils_gn.read_data('data_all.pkl')                     # read data for all cycles\n",
    "data_subset = {k: data_all[k] for k in train_raw_data.keys()}     # get all cycles for train cells\n",
    "ccv = utils_sig.ccv_signature_features(data_dict=data_subset, n=-1, return_ccv=True) # get constant-current voltage at discharge for all cycles (except the last)"
   ]
  },
  {
   "cell_type": "code",
   "execution_count": null,
   "metadata": {},
   "outputs": [],
   "source": [
    "# Save the generated ccv as pkl\n",
    "utils_gn.dump_data(\n",
    "    data=ccv,\n",
    "    path=f\"{ROOT_DIR}/data\",\n",
    "    fname=\"ccv_data.pkl\"\n",
    ")"
   ]
  },
  {
   "cell_type": "code",
   "execution_count": null,
   "metadata": {},
   "outputs": [],
   "source": [
    "ccv.keys()"
   ]
  },
  {
   "cell_type": "code",
   "execution_count": null,
   "metadata": {},
   "outputs": [],
   "source": [
    "selected_cells = ['b1c30', 'b2c30', 'b3c27', 'b8c7'] #['b2c30']\n",
    "#utils_sig.plot_ccv_features(data_dict=ccv, fname=\"plots/ccv-evolution-graphical-abstract.pdf\", sample_cells=selected_cells, option=2)\n",
    "utils_sig.plot_ccv_features(data_dict=ccv, fname=f\"{ROOT_DIR}/plots/sig-new-ccv-evol-with-arrows.pdf\", sample_cells=selected_cells, option=2)"
   ]
  },
  {
   "cell_type": "code",
   "execution_count": null,
   "metadata": {},
   "outputs": [],
   "source": [
    "# Create histogram of EOL, capacity and internal resistance curves\n",
    "fig, ax = plt.subplots(1, 3, figsize=(16, 4))\n",
    "cmap = plt.get_cmap('gist_heat', len(data_subset))\n",
    "\n",
    "for i, cell in enumerate(data_subset.keys()):\n",
    "    \n",
    "    capacity = data_subset[cell]['summary']['QDischarge']\n",
    "    ir = data_subset[cell]['summary']['IR']\n",
    "\n",
    "    ax[1].plot(capacity, 'o', linewidth=1, markersize=1,  c=cmap(i))\n",
    "    ax[1].set_xlabel('Cycles', fontsize=16)\n",
    "    ax[1].set_ylabel('Capacity (Ah)', fontsize=16)\n",
    "    ax[1].set_ylim([0.8, 1.1])\n",
    "\n",
    "    \n",
    "    ax[2].plot(ir, 'o', linewidth=1, markersize=1, c=cmap(i))\n",
    "    ax[2].set_xlabel('Cycles', fontsize=16)\n",
    "    ax[2].set_ylabel(r'IR ($\\Omega$)', fontsize=16)\n",
    "    ax[2].set_ylim([0.010, 0.025])\n",
    "\n",
    "   \n",
    "ax[0].hist(utils_gn.cycle_life(data_dict=data_subset).values, color='brown', ec='black')\n",
    "ax[0].set_xlabel('EOL of cells', fontsize=16)\n",
    "ax[0].set_ylabel('Frequency', fontsize=16)\n",
    "\n",
    "plt.tight_layout()\n",
    "plt.savefig(fname=f\"{ROOT_DIR}/plots/sig-eolhist-cap-ir-explore.pdf\", bbox_inches='tight')"
   ]
  }
 ],
 "metadata": {
  "interpreter": {
   "hash": "31f2aee4e71d21fbe5cf8b01ff0e069b9275f58929596ceb00d14d90e3e16cd6"
  },
  "kernelspec": {
   "display_name": "Python 3.8.10 64-bit",
   "language": "python",
   "name": "python3"
  },
  "language_info": {
   "codemirror_mode": {
    "name": "ipython",
    "version": 3
   },
   "file_extension": ".py",
   "mimetype": "text/x-python",
   "name": "python",
   "nbconvert_exporter": "python",
   "pygments_lexer": "ipython3",
   "version": "3.10.12"
  },
  "orig_nbformat": 4
 },
 "nbformat": 4,
 "nbformat_minor": 2
}
