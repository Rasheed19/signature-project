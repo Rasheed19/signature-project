{
 "cells": [
  {
   "cell_type": "code",
   "execution_count": 17,
   "metadata": {},
   "outputs": [],
   "source": [
    "import numpy as np\n",
    "import pandas as pd\n",
    "import matplotlib.pyplot as plt\n",
    "import warnings\n",
    "from utils import utils_gn, utils_sig, utils_dgrd, utils_models\n",
    "from config.definitions import ROOT_DIR\n",
    "import importlib\n",
    "importlib.reload(utils_gn)\n",
    "importlib.reload(utils_sig)\n",
    "importlib.reload(utils_models)\n",
    "importlib.reload(utils_dgrd)\n",
    "warnings.filterwarnings(\"ignore\")"
   ]
  },
  {
   "cell_type": "code",
   "execution_count": null,
   "metadata": {},
   "outputs": [],
   "source": [
    "# load train raw data\n",
    "train_raw = utils_gn.read_data('train_1238.pkl')"
   ]
  },
  {
   "cell_type": "code",
   "execution_count": null,
   "metadata": {},
   "outputs": [],
   "source": [
    "# Load train raw data\n",
    "test_raw = utils_gn.read_data('test_1238.pkl')"
   ]
  },
  {
   "cell_type": "code",
   "execution_count": null,
   "metadata": {},
   "outputs": [],
   "source": [
    "# Load test raw data\n",
    "test_target = utils_gn.read_data('true_test_labels_1238.pkl')"
   ]
  },
  {
   "cell_type": "code",
   "execution_count": null,
   "metadata": {},
   "outputs": [],
   "source": [
    "# Define the list of number of selected features\n",
    "k_list = np.linspace(0.1, 0.9, 9) * 66   # we have a total of 66 features\n",
    "k_list = [int(i) for i in k_list]\n",
    "k_list"
   ]
  },
  {
   "cell_type": "code",
   "execution_count": null,
   "metadata": {},
   "outputs": [],
   "source": [
    "# Train model with high-frequncy data with features \n",
    "# selected by the RRCT algorithm using different values \n",
    "# selection threshold-- a case of EOL and IRatEOL\n",
    "\n",
    "df_k = utils_models.model_feature_selection(\n",
    "    train_raw=train_raw,\n",
    "    test_raw=test_raw,\n",
    "    y_test_df=test_target,\n",
    "    target_list=['EOL'], # target_list=['IRatEOL'],\n",
    "    k_list=k_list,\n",
    "    params={'n_estimators': 100, 'reg_alpha': 0.1, 'max_depth': 2, 'min_samples_split': 3} #{'n_estimators': 500, 'max_depth': 6, 'learning_rate': 0.1} \n",
    ")"
   ]
  },
  {
   "cell_type": "code",
   "execution_count": null,
   "metadata": {},
   "outputs": [],
   "source": [
    "df = df_k.copy()"
   ]
  },
  {
   "cell_type": "code",
   "execution_count": null,
   "metadata": {},
   "outputs": [],
   "source": [
    "df"
   ]
  },
  {
   "cell_type": "code",
   "execution_count": null,
   "metadata": {},
   "outputs": [],
   "source": [
    "df = df.apply(pd.to_numeric)\n",
    "df.index = np.arange(10, 100, 10)  # change index to percentages\n",
    "df['MAPE_train'] = df['MAPE_train'] * 100  # change MAPE to percentages\n",
    "df['MAPE_test'] = df['MAPE_test'] * 100    # change MAPE to percentages\n",
    "df "
   ]
  },
  {
   "cell_type": "code",
   "execution_count": null,
   "metadata": {},
   "outputs": [],
   "source": [
    "# A bar chart of the errors for each percentage of features retained\n",
    "\n",
    "fig = plt.figure(figsize=(10, 5))\n",
    "\n",
    "for i, item in enumerate(df.columns):\n",
    "    ax = fig.add_subplot(2, 3, i+1)\n",
    "\n",
    "    if i in [0, 2]:\n",
    "        ax.set_title(item.split('_')[0]+\" (cycles)\", fontsize=16)\n",
    "        #ax.set_title(item.split('_')[0]+r\" ($\\Omega$)\", fontsize=16)\n",
    "    \n",
    "    if i == 1:\n",
    "        ax.set_title(item.split('_')[0]+r\" ($\\%$)\", fontsize=16)\n",
    "       \n",
    "    ax.bar(df.index.map(str), df[item].values, color='brown', ec='black', alpha=0.78)\n",
    "    ax.tick_params(axis='x', rotation=90, labelsize=14)\n",
    "    ax.tick_params(axis='y', labelsize=14)\n",
    "\n",
    "    if i not in [3, 4, 5]:\n",
    "        ax.set_xticklabels([])\n",
    "    else:\n",
    "        ax.set_xlabel('Feature percentage (%)', fontsize=14)\n",
    "    \n",
    "    if i == 0:\n",
    "        ax.set_ylabel('Train errors', size=16)   \n",
    "    \n",
    "    if i == 3:\n",
    "        ax.set_ylabel('Test errors', size=16)\n",
    "\n",
    "plt.tight_layout()\n",
    "plt.savefig(fname=f\"{ROOT_DIR}/plots/rrct_feature_selection_n_100_tabs12.pdf\", bbox_inches='tight')"
   ]
  },
  {
   "cell_type": "code",
   "execution_count": null,
   "metadata": {},
   "outputs": [],
   "source": [
    "# Model with top 10% of features and data recorded at 4 mins interval\n",
    "\n",
    "res_10p_4min = utils_models.model_feature_selection(\n",
    "                            train_raw=train_raw,\n",
    "                            test_raw=test_raw,\n",
    "                            y_test_df=test_target,\n",
    "                            target_list=['EOL'],\n",
    "                            k_list=[6],  # integer part of 10% of 66\n",
    "                            step_size=80, # key for 4 mins sub-sampling\n",
    "                            params = {'n_estimators': 100, 'reg_alpha': 0.1, 'max_depth': 2, 'min_samples_split': 3} #{'n_estimators': 500, 'max_depth': 6, 'learning_rate': 0.1} # \n",
    ")"
   ]
  },
  {
   "cell_type": "code",
   "execution_count": null,
   "metadata": {},
   "outputs": [],
   "source": [
    "res_10p_4min"
   ]
  },
  {
   "cell_type": "code",
   "execution_count": null,
   "metadata": {},
   "outputs": [],
   "source": [
    "# function to plot bar chart of feature ranking (correspoding to top 10% features selected by the RRCT algorithm)\n",
    "\n",
    "def plot_rank_bar_chart(x, y, labels):\n",
    "\n",
    "    fig = plt.figure(figsize=(10, 5))\n",
    "\n",
    "    for i, item in enumerate(x):\n",
    "\n",
    "        ax = fig.add_subplot(1, 2, i+1)\n",
    "        ax.text(0.6, 0.95, labels[i], transform=ax.transAxes, fontsize=16, fontweight='bold', va='top')\n",
    "\n",
    "        ax.bar(x[i], y[::-1], color='brown', ec='black', alpha=0.78)\n",
    "        \n",
    "        for j, p in enumerate(ax.patches):\n",
    "            ax.annotate(y[j], (p.get_x()+p.get_width()/2., p.get_height()), ha='left', \n",
    "                        va='center', xytext=(0, 10), textcoords='offset points', size=14)\n",
    "            \n",
    "        ax.set_xlabel('Top 10% selected features', fontsize=16)\n",
    "        ax.tick_params(axis='x', rotation=90, labelsize=14)\n",
    "        ax.set_ylabel('Rankings')\n",
    "        ax.yaxis.set_visible(False)\n",
    "        ax.set_frame_on(False)\n",
    "        ax.spines['top'].set_visible(False)\n",
    "        ax.spines['right'].set_visible(False)\n",
    "        ax.spines['left'].set_visible(False)\n",
    "    \n",
    "    plt.savefig(fname=f\"{ROOT_DIR}/plots/sig-rank-10p-4min.pdf\", bbox_inches='tight')"
   ]
  },
  {
   "cell_type": "code",
   "execution_count": null,
   "metadata": {},
   "outputs": [],
   "source": [
    "x = [\n",
    "    ['S1-Sig-diff', 'Min-S1', 'Var-S1', 'S21-Sig-100', 'Kurt-S21', 'S21-Sig-diff'],\n",
    "    ['Mean-S22', 'Max-S2', 'S12-Sig-50', 'S11-Sig-diff', 'S21-Sig-1', 'S2-Sig-100']\n",
    "    ]\n",
    "y = [1, 2, 3, 4, 5, 6]\n",
    "labels = ['EOL', 'IRatEOL']"
   ]
  },
  {
   "cell_type": "code",
   "execution_count": null,
   "metadata": {},
   "outputs": [],
   "source": [
    "plot_rank_bar_chart(x=x, y=y, labels=labels)"
   ]
  }
 ],
 "metadata": {
  "kernelspec": {
   "display_name": "Python 3",
   "language": "python",
   "name": "python3"
  },
  "language_info": {
   "codemirror_mode": {
    "name": "ipython",
    "version": 3
   },
   "file_extension": ".py",
   "mimetype": "text/x-python",
   "name": "python",
   "nbconvert_exporter": "python",
   "pygments_lexer": "ipython3",
   "version": "3.10.12"
  },
  "orig_nbformat": 4,
  "vscode": {
   "interpreter": {
    "hash": "916dbcbb3f70747c44a77c7bcd40155683ae19c65e1c03b4aa3499c5328201f1"
   }
  }
 },
 "nbformat": 4,
 "nbformat_minor": 2
}
