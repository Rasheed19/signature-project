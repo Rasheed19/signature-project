{
 "cells": [
  {
   "cell_type": "code",
   "execution_count": null,
   "metadata": {},
   "outputs": [],
   "source": [
    "from utils import utils_models, utils_gn, utils_dgrd, utils_sig\n",
    "from config.definitions import ROOT_DIR\n",
    "import matplotlib.pyplot as plt\n",
    "from mpl_toolkits.axes_grid1.inset_locator import inset_axes\n",
    "from scipy.interpolate import interp1d\n",
    "import importlib\n",
    "import numpy as np\n",
    "import pickle\n",
    "import os\n",
    "from scipy import stats\n",
    "import seaborn as sns\n",
    "importlib.reload(utils_models)\n",
    "importlib.reload(utils_gn)\n",
    "importlib.reload(utils_dgrd)\n",
    "importlib.reload(utils_sig)"
   ]
  },
  {
   "cell_type": "markdown",
   "metadata": {},
   "source": [
    "# The geometrical interpretation of the first two levels of signature"
   ]
  },
  {
   "cell_type": "markdown",
   "metadata": {},
   "source": [
    "We define a two-dimensional path $P = \\{t, V(t)\\}$, where $t$ is the time and $V(t)$ is the constant-current voltage at discharge. We are interested in the first two levels of the signature of $P$ because of its geometrical intuition; see section 1.2.4 of the article *A Primer on the Signature Method in Machine\n",
    "Learning* by Ilya Chevyrev and Andrey Kormilitzin. \n",
    "\n",
    "The first two levels of the signature of $P$ is $$\\left(S(P)^1, S(P)^2, S(P)^{1,1}, S(P)^{1,2}, S(P)^{2,1}, S(P)^{2,2}\\right).$$\n",
    "\n",
    "Here, $S(P)^1, S(P)^2$ are the increments of the path, i.e., $$S(P)^1 = t_{final} - t_{initial}; \\quad S(P)^2 = V_{final} - V_{initial}.$$ On the other hand, $$S(P)^{1,1} = (t_{final} - t_{initial})^2/2 ; \\quad S(P)^{2,2} = (V_{final} - V_{initial})^2/2.$$\n",
    "\n",
    "The rest of the terms are more interesting. $S(P)^{1,2}$ is the area bounded by the lines $V=V_{initial}$, $t=t_{initial}$ and the curve $V(t)$. As for the the term  $S(P)^{1,2}$, it is the area bounded by the lines $V=V_{final}$, $t=t_{final}$ and the curve $V(t)$. We demostrate these two terms in the following figures."
   ]
  },
  {
   "cell_type": "code",
   "execution_count": null,
   "metadata": {},
   "outputs": [],
   "source": [
    "# read training data\n",
    "train_raw_data = utils_gn.read_data('train_1238.pkl')"
   ]
  },
  {
   "cell_type": "code",
   "execution_count": null,
   "metadata": {},
   "outputs": [],
   "source": [
    "# Define some sample cell and cycle\n",
    "sample_cell = 'b2c12'\n",
    "sample_cycle = '4'"
   ]
  },
  {
   "cell_type": "code",
   "execution_count": null,
   "metadata": {},
   "outputs": [],
   "source": [
    "# get the discharge values\n",
    "i_values = utils_gn.get_charge_discharge_values(train_raw_data, 'I', sample_cell, sample_cycle, 'di')\n",
    "v_values = utils_gn.get_charge_discharge_values(train_raw_data, 'V', sample_cell, sample_cycle, 'di')\n",
    "t_values = utils_gn.get_charge_discharge_values(train_raw_data, 't', sample_cell, sample_cycle, 'di')\n",
    "\n",
    "# get the indices of the start and end of CC\n",
    "start_I, end_I = utils_gn.get_constant_indices(i_values, 'di')\n",
    "\n",
    "# get the corresponding voltages \n",
    "ccv = v_values[start_I:end_I+1]\n",
    "\n",
    "# get the corresponding time \n",
    "cct = t_values[start_I:end_I+1]\n",
    "cct = cct - min(cct)"
   ]
  },
  {
   "cell_type": "code",
   "execution_count": null,
   "metadata": {},
   "outputs": [],
   "source": [
    "# Display\n",
    "fig, ax = plt.subplots(1, 2, figsize=(16, 6))\n",
    "ax[0].plot(cct, ccv, color='brown')\n",
    "ax[0].hlines(y=min(ccv), xmin=min(cct), xmax=max(cct), linestyles='dashed', color='brown', linewidth=2.0)\n",
    "ax[0].vlines(x=min(cct), ymin=min(ccv), ymax=max(ccv), linestyles='dashed', color='brown', linewidth=2.0)\n",
    "ax[0].fill_between(cct, y1=min(ccv), y2=ccv, alpha=0.2, color='brown')\n",
    "ax[0].text(x=6.5, y=2.6, s=r\"$-S^{1,2}$\", fontsize=16)\n",
    "ax[0].set_ylabel(r'CC Voltage at discharge, $V(t)$', fontsize=16)\n",
    "ax[0].set_xlabel(r\"time, $t$\", fontsize=16)\n",
    "ax[0].text(x=6.0, y=2.05, s=r\"$V=V_{final}$\", fontsize=16)\n",
    "ax[0].text(x=0.02, y=2.6, s=r\"$t=t_{initial}$\", fontsize=16, rotation=90)\n",
    "ax[0].text(x=6, y=3.15, s=r\"$V=V(t)$\", fontsize=16)\n",
    "\n",
    "\n",
    "ax[1].plot(cct, ccv, color='brown')\n",
    "ax[1].hlines(y=max(ccv), xmin=min(cct), xmax=max(cct), linestyles='dashed', color='brown', linewidth=2.0)\n",
    "ax[1].vlines(x=max(cct), ymin=min(ccv), ymax=max(ccv), linestyles='dashed', color='brown', linewidth=2.0)\n",
    "ax[1].fill_between(cct, y1=max(ccv), y2=ccv, alpha=0.2, color='brown')\n",
    "ax[1].text(x=7.5, y=3.2, s=r\"$-S^{2,1}$\", fontsize=16)\n",
    "#ax[1].set_ylabel(r'CC Voltage at discharge, $V(t)$', fontsize=14)\n",
    "ax[1].set_xlabel(r\"time, $t$\", fontsize=16)\n",
    "ax[1].text(x=6.0, y=3.4, s=r\"$V=V_{initial}$\", fontsize=16)\n",
    "ax[1].text(x=13.5, y=3.0, s=r\"$t=t_{final}$\", fontsize=16, rotation=90)\n",
    "ax[1].text(x=6, y=3.0, s=r\"$V=V(t)$\", fontsize=16)\n",
    "\n",
    "plt.savefig(fname=f\"{ROOT_DIR}/plots/sig_level2_geometry_inter.pdf\", bbox_inches='tight')\n"
   ]
  },
  {
   "cell_type": "markdown",
   "metadata": {},
   "source": [
    "We see that $$ -S(P)^{1,2} = \\int_{t_{initial}}^{t_{final}} \\left(V(t)-V_{final}\\right)\\,dt; \\quad -S(P)^{2,1} = \\int_{t_{initial}}^{t_{final}} \\left(V_{initial}-V(t)\\right)\\,dt.$$ The negative sign is as a result of the orientation of the path $P$, since it is traversed in a clockwise direction: $V(t)$ decreases with an increase in time $t$; see section 2.1.4 of the abovementioned article."
   ]
  },
  {
   "cell_type": "code",
   "execution_count": null,
   "metadata": {},
   "outputs": [],
   "source": [
    "# Let's check how these changes with cycles\n",
    "data = utils_gn.read_data(\"data_all.pkl\")\n",
    "fig, ax = plt.subplots(1, 2, figsize=(16, 6))\n",
    "\n",
    "for cycle in ('2', '50', '100', '300', '400'):\n",
    "    # get the discharge values\n",
    "    i_values = utils_gn.get_charge_discharge_values(data, 'I', sample_cell, cycle, 'di')\n",
    "    v_values = utils_gn.get_charge_discharge_values(data, 'V', sample_cell, cycle, 'di')\n",
    "    t_values = utils_gn.get_charge_discharge_values(data, 't', sample_cell, cycle, 'di')\n",
    "\n",
    "    # get the indices of the start and end of CC\n",
    "    start_I, end_I = utils_gn.get_constant_indices(i_values, 'di')\n",
    "\n",
    "    # get the corresponding voltages \n",
    "    ccv = v_values[start_I:end_I+1]\n",
    "\n",
    "    # get the corresponding time \n",
    "    cct = t_values[start_I:end_I+1]\n",
    "    cct = cct - min(cct)\n",
    "\n",
    "    ax[0].plot(cct, ccv, alpha=0.3)\n",
    "    ax[0].fill_between(cct, y1=min(ccv), y2=ccv, alpha=0.2, label=f'Cycle {cycle}')\n",
    "\n",
    "\n",
    "    ax[1].plot(cct, ccv, alpha=0.3)\n",
    "    ax[1].fill_between(cct, y1=max(ccv), y2=ccv, alpha=0.2, label=f'Cycle {cycle}')\n",
    "\n",
    "ax[0].set_ylabel(r'CC Voltage at discharge, $V(t)$', fontsize=16)\n",
    "ax[0].set_xlabel(r\"time, $t$\", fontsize=16)    \n",
    "\n",
    "ax[1].set_xlabel(r\"time, $t$\", fontsize=16)\n",
    "\n",
    "ax[0].set_title(r\"$-S^{1,2}$\", fontsize=16)\n",
    "ax[1].set_title(r\"$-S^{2,1}$\", fontsize=16)\n",
    "\n",
    "ax[0].legend()\n",
    "ax[1].legend(loc='lower left')\n",
    "plt.savefig(fname=f\"{ROOT_DIR}/plots/sig_level2_geometry_inter2.pdf\", bbox_inches='tight')\n"
   ]
  },
  {
   "attachments": {},
   "cell_type": "markdown",
   "metadata": {},
   "source": [
    "## Checking Pearson correlation of generated features with EOL and IRatEOL"
   ]
  },
  {
   "cell_type": "code",
   "execution_count": null,
   "metadata": {},
   "outputs": [],
   "source": [
    "knee_elbow_df =  utils_sig.ccv_signature_features(data_dict=train_raw_data, n=100, multi_cycle=False).join(utils_dgrd.create_knee_elbow_data(train_raw_data))"
   ]
  },
  {
   "cell_type": "code",
   "execution_count": null,
   "metadata": {},
   "outputs": [],
   "source": [
    "df = knee_elbow_df.copy()\n",
    "df = df.drop(['k-o', 'k-p', 'Qatk-o', 'Qatk-p', 'e-o', 'e-p', 'IRate-o', 'IRate-p'], axis=1)"
   ]
  },
  {
   "cell_type": "code",
   "execution_count": null,
   "metadata": {},
   "outputs": [],
   "source": [
    "df.columns[:-2]"
   ]
  },
  {
   "cell_type": "code",
   "execution_count": null,
   "metadata": {},
   "outputs": [],
   "source": [
    "targets = ['EOL', 'IRatEOL']\n",
    "corr_matrix = df.corr()\n",
    "features = df.columns[:-2]\n",
    "\n",
    "fig = plt.figure(figsize=(7, 11))\n",
    "\n",
    "for i, tar in enumerate(targets):\n",
    "\n",
    "    ax = fig.add_subplot(1, 2, i+1)\n",
    "    ax.text(0.05, 0.99, tar, transform=ax.transAxes, fontsize=16, fontweight='bold', va='top')\n",
    "\n",
    "    if i==1:\n",
    "        ax.set_yticklabels([])\n",
    "\n",
    "    corr_for_tar = corr_matrix.loc[features, tar]  \n",
    "    ax.barh(features, corr_for_tar, color='brown', ec='black', alpha=0.78)\n",
    "    ax.set_xlim([-1, 1])\n",
    "    ax.set_xlabel(r'Correlation coefficent ($\\rho$)', fontsize=12)\n",
    "    ax.axvline(x=0.5, color='black', linestyle='--', alpha=0.5)\n",
    "    ax.axvline(x=-0.5, color='black', linestyle='--', alpha=0.5)\n",
    "    ax.axvline(x=-0.0, color='black', linestyle='-', alpha=0.5)\n",
    "    #ax.tick_params(axis='y', labelsize=16)\n",
    "\n",
    "plt.tight_layout()\n",
    "plt.savefig(fname=f\"{ROOT_DIR}/plots/sig-table1&2-features-corr-eol-ir.pdf\", bbox_inches='tight')"
   ]
  },
  {
   "attachments": {},
   "cell_type": "markdown",
   "metadata": {},
   "source": [
    "# Checking Pearson correlation of the signatures with the cycle numbers"
   ]
  },
  {
   "cell_type": "code",
   "execution_count": null,
   "metadata": {},
   "outputs": [],
   "source": [
    "# Get the signatures \n",
    "train_raw_data = utils_gn.read_data('train_1238.pkl')\n",
    "signatures =  utils_sig.ccv_signature_features(data_dict=train_raw_data, n=100, return_sig=True)"
   ]
  },
  {
   "cell_type": "code",
   "execution_count": null,
   "metadata": {},
   "outputs": [],
   "source": [
    "# Create a list of cycle number\n",
    "cycle_numbers = np.arange(1, 101)\n",
    "cycle_numbers"
   ]
  },
  {
   "cell_type": "code",
   "execution_count": null,
   "metadata": {},
   "outputs": [],
   "source": [
    "signatures.keys()"
   ]
  },
  {
   "cell_type": "code",
   "execution_count": null,
   "metadata": {},
   "outputs": [],
   "source": [
    "\n",
    "# Create a barchart of correlation between singatures and cycle numbers for randomly\n",
    "# selected cells\n",
    "selected_cells = ['b1c30', 'b2c40', 'b3c22', 'b8c22']\n",
    "signature_labels = [r'$S^1$', r'$S^2$', r'$S^{1,1}$', r'$S^{1,2}$', r'$S^{2,1}$', r'$S^{2,2}$']\n",
    "fig = plt.figure(figsize=(16, 5))\n",
    "\n",
    "for i, cell in enumerate(selected_cells):\n",
    "\n",
    "    ax = fig.add_subplot(2, 2, i+1)\n",
    "    ax.text(0.02, 0.97, cell, transform=ax.transAxes, fontsize=16, fontweight='bold', va='top')\n",
    "\n",
    "    if i % 2 != 0:\n",
    "        ax.set_yticklabels([])\n",
    "        \n",
    "    if i % 2 == 0:\n",
    "        ax.set_ylabel(r'Signatures', fontsize=16)\n",
    "\n",
    "    if i in [2, 3]:\n",
    "        ax.set_xlabel(r'Correlation coefficent ($\\rho$)', fontsize=16)\n",
    "\n",
    "    # Get the Pearson's correlation for the current cell, between cycle numbers and each\n",
    "    # signature component\n",
    "    corr_for_cell = [stats.pearsonr(cycle_numbers, signatures[cell][:, i])[0] for i in range(6)]\n",
    "\n",
    "    ax.barh(signature_labels, corr_for_cell, color='brown', ec='black', alpha=0.78)\n",
    "    ax.set_xlim([-1, 1])\n",
    "    ax.axvline(x=0.5, color='black', linestyle='--', alpha=0.5)\n",
    "    ax.axvline(x=-0.5, color='black', linestyle='--', alpha=0.5)\n",
    "    ax.axvline(x=-0.0, color='black', linestyle='-', alpha=0.5)\n",
    "\n",
    "plt.tight_layout()"
   ]
  },
  {
   "cell_type": "code",
   "execution_count": null,
   "metadata": {},
   "outputs": [],
   "source": [
    "# Plot a scatter plot of all the signature components against cycle numbers for a given cell\n",
    "given_cell = 'b1c30'\n",
    "\n",
    "fig = plt.figure(figsize=(16, 8))\n",
    "\n",
    "for i, sig in enumerate(signature_labels):\n",
    "\n",
    "    ax = fig.add_subplot(3, 2, i+1)\n",
    "\n",
    "    # Get the Pearson's correlation for the current signature component\n",
    "    corr_for_sig = stats.pearsonr(cycle_numbers, signatures[cell][:, i])[0]\n",
    "\n",
    "    ax.scatter(cycle_numbers, signatures[cell][:, i], color='brown', s=20, alpha=0.5)\n",
    "    ax.text(\n",
    "        0.02,\n",
    "        0.97 if i%2 !=0 else 0.2,\n",
    "        r'$\\rho = {}$'.format(np.round(corr_for_sig, 2)),\n",
    "        transform=ax.transAxes,\n",
    "        fontsize=16,\n",
    "        fontweight='bold',\n",
    "        va='top',\n",
    "    )\n",
    "    ax.set_ylabel(signature_labels[i], fontsize=16)\n",
    "\n",
    "    if i in [4, 5]:\n",
    "        ax.set_xlabel('Cycles', fontsize=16)\n",
    "plt.tight_layout()\n",
    "plt.savefig(fname=f\"{ROOT_DIR}/plots/sig-scatter-plot-sigcomponent-cyclenumber.pdf\", bbox_inches='tight')"
   ]
  }
 ],
 "metadata": {
  "kernelspec": {
   "display_name": "Python 3.8.10 64-bit",
   "language": "python",
   "name": "python3"
  },
  "language_info": {
   "codemirror_mode": {
    "name": "ipython",
    "version": 3
   },
   "file_extension": ".py",
   "mimetype": "text/x-python",
   "name": "python",
   "nbconvert_exporter": "python",
   "pygments_lexer": "ipython3",
   "version": "3.10.12"
  },
  "orig_nbformat": 4,
  "vscode": {
   "interpreter": {
    "hash": "31f2aee4e71d21fbe5cf8b01ff0e069b9275f58929596ceb00d14d90e3e16cd6"
   }
  }
 },
 "nbformat": 4,
 "nbformat_minor": 2
}
